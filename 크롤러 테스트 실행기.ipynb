{
 "cells": [
  {
   "cell_type": "markdown",
   "metadata": {},
   "source": [
    "# 활동여부크롤러 제작중"
   ]
  },
  {
   "cell_type": "code",
   "execution_count": null,
   "metadata": {},
   "outputs": [],
   "source": [
    "import module.chrome_driver_module as chrome_driver_module\n",
    "import module.db_module as db_module\n",
    "import pandas as pd\n",
    "import numpy as np\n",
    "\n",
    "from module.activate_seller.naver_jungo.main import naver_jungo\n",
    "from module.activate_seller.bunjang.main import bunjang\n",
    "from module.db_module import CreateTableIfNotExists\n",
    "from sqlalchemy import Table, Column, Integer, String, Boolean\n",
    "from module.activate_seller.rearrange_as_id import rearrange_as_id\n",
    "\n",
    "db_class = db_module.Database() #db연결 생성\n",
    "\n",
    "######### activate_seller 테이블 없다면 정의해주는 부분 ###########\n",
    "table = Table(\n",
    "    \"activate_seller\",\n",
    "    db_class.metadata,\n",
    "    Column(\"as_id\", Integer, primary_key=True),\n",
    "    Column(\"vendor_type\", String(50)),\n",
    "    Column(\"fsl_rs_id\", String(50)),\n",
    "    Column(\"shop_id\", String(50)),\n",
    "    Column(\"last_sell\", String(50)),\n",
    "    Column(\"sell_count\", String(50)),\n",
    "    Column(\"dealing_smartphone\", String(50)),\n",
    "    Column(\"is_activate\", Boolean),\n",
    "    mysql_auto_increment='0',\n",
    ")\n",
    "db_class.engine.execute(CreateTableIfNotExists(table))\n",
    "\n",
    "\n",
    "driver = chrome_driver_module.ChromeDriver().driver\n",
    "\n",
    "   #############################################\n",
    "  #        워닛 판매자 활동여부 크롤링         #\n",
    " #  입력: ? / 출력: activate_seller 테이블    #\n",
    "#############################################\n",
    "\n",
    "# 결과데이터 형식 정의\n",
    "my_dict = {\n",
    "    \"vendor_type\" : \"\", \n",
    "    \"fsl_rs_id\" : \"\",               #리얼셀러 아이디\n",
    "    \"shop_id\":\"\",                   #네이버/번장 판매자 아이디\n",
    "    \"last_sell\": \"\",                #가장최근 판매글 게시일\n",
    "    \"sell_count\": \"\",               #2주간 판매중인 물품 갯수\n",
    "    \"dealing_smartphone\": \"\",       #2주간 스마트폰 품목 취급여부\n",
    "    \"is_activate\": \"\"               #종합적으로 판단한 최종 활동여부\n",
    "}\n",
    "crawl_data = pd.DataFrame(my_dict,index=[0])\n",
    "\n",
    "seller_list = pd.read_excel('셀러리스트.xlsx').fillna(np.NAN) #입력데이터\n",
    "\n",
    "# for i in range(len(seller_list)):\n",
    "for i in range(3): #테스트용\n",
    "    \n",
    "    #네이버판매처 크롤링\n",
    "    crawl_data = naver_jungo(crawl_data,seller_list,i,driver)\n",
    "\n",
    "    #번개장터판매처 크롤링\n",
    "    crawl_data = bunjang(crawl_data,seller_list,i,driver)\n",
    "\n",
    "crawl_data = crawl_data.reset_index()\n",
    "indexNames = crawl_data[crawl_data['vendor_type'] == \"\" ].index\n",
    "crawl_data.drop(indexNames,inplace=True)\n",
    "crawl_data = crawl_data.drop(['index'], axis='columns')\n",
    "\n",
    "activate_seller = pd.read_sql_table('activate_seller',db_class.engine_conn).drop(['as_id'], axis='columns') #기존테이블 로드\n",
    "crawl_data = crawl_data.append(activate_seller, ignore_index=True)\n",
    "crawl_data = crawl_data.drop_duplicates(['fsl_rs_id','shop_id'], keep='last')\n",
    "\n",
    "\n",
    "try:    \n",
    "    with db_class.cursor as cursor:\n",
    "        cursor.execute(\"DELETE FROM activate_seller;\")\n",
    "        db_class.db_conn.commit()\n",
    "        \n",
    "finally:\n",
    "     db_class.db_conn.close()\n",
    "\n",
    "crawl_data.to_sql(name='activate_seller', con=db_class.engine, if_exists='append', index=False)\n",
    "db_class.engine_conn.close()\n",
    "    \n",
    "rearrange_as_id()\n",
    "\n",
    "\n"
   ]
  },
  {
   "cell_type": "code",
   "execution_count": null,
   "metadata": {},
   "outputs": [],
   "source": [
    "crawl_data"
   ]
  },
  {
   "cell_type": "markdown",
   "metadata": {},
   "source": [
    "# ORM 테스트"
   ]
  },
  {
   "cell_type": "code",
   "execution_count": 1,
   "metadata": {},
   "outputs": [],
   "source": [
    "import module.db_module as db_module\n",
    "db_class = db_module.Database() #db연결 생성\n"
   ]
  },
  {
   "cell_type": "code",
   "execution_count": 2,
   "metadata": {},
   "outputs": [
    {
     "data": {
      "text/plain": [
       "'1.4.7'"
      ]
     },
     "execution_count": 2,
     "metadata": {},
     "output_type": "execute_result"
    }
   ],
   "source": [
    "import sqlalchemy\n",
    "sqlalchemy.__version__ "
   ]
  },
  {
   "cell_type": "code",
   "execution_count": 3,
   "metadata": {},
   "outputs": [],
   "source": [
    "engine = db_class.engine"
   ]
  },
  {
   "cell_type": "code",
   "execution_count": 4,
   "metadata": {},
   "outputs": [],
   "source": [
    "from sqlalchemy.ext.declarative import declarative_base\n",
    "Base = declarative_base()"
   ]
  },
  {
   "cell_type": "code",
   "execution_count": 5,
   "metadata": {},
   "outputs": [],
   "source": [
    "from sqlalchemy import Column, Integer, String\n",
    "class User(Base):\n",
    "        __tablename__ = 'users'\n",
    "\n",
    "        id = Column(Integer, primary_key=True)\n",
    "        name = Column(String(30))\n",
    "        fullname = Column(String(30))\n",
    "        nickname = Column(String(30))\n",
    "    \n",
    "        def __repr__(self):\n",
    "            return \"<User(name='%s', fullname='%s', nickname='%s')>\" % (self.name, self.fullname, self.nickname)"
   ]
  },
  {
   "cell_type": "code",
   "execution_count": 6,
   "metadata": {},
   "outputs": [
    {
     "data": {
      "text/plain": [
       "Table('users', MetaData(), Column('id', Integer(), table=<users>, primary_key=True, nullable=False), Column('name', String(length=30), table=<users>), Column('fullname', String(length=30), table=<users>), Column('nickname', String(length=30), table=<users>), schema=None)"
      ]
     },
     "execution_count": 6,
     "metadata": {},
     "output_type": "execute_result"
    }
   ],
   "source": [
    "User.__table__ "
   ]
  },
  {
   "cell_type": "code",
   "execution_count": 7,
   "metadata": {},
   "outputs": [],
   "source": [
    "Base.metadata.create_all(engine)"
   ]
  },
  {
   "cell_type": "code",
   "execution_count": 8,
   "metadata": {},
   "outputs": [],
   "source": [
    "ed_user = User(name='ed', fullname='Ed Jones', nickname='edsnickname')"
   ]
  },
  {
   "cell_type": "code",
   "execution_count": 9,
   "metadata": {},
   "outputs": [
    {
     "data": {
      "text/plain": [
       "'ed'"
      ]
     },
     "execution_count": 9,
     "metadata": {},
     "output_type": "execute_result"
    }
   ],
   "source": [
    "ed_user.name"
   ]
  },
  {
   "cell_type": "code",
   "execution_count": 10,
   "metadata": {},
   "outputs": [
    {
     "data": {
      "text/plain": [
       "'edsnickname'"
      ]
     },
     "execution_count": 10,
     "metadata": {},
     "output_type": "execute_result"
    }
   ],
   "source": [
    "ed_user.nickname"
   ]
  },
  {
   "cell_type": "code",
   "execution_count": 11,
   "metadata": {},
   "outputs": [
    {
     "data": {
      "text/plain": [
       "'None'"
      ]
     },
     "execution_count": 11,
     "metadata": {},
     "output_type": "execute_result"
    }
   ],
   "source": [
    "str(ed_user.id)"
   ]
  },
  {
   "cell_type": "code",
   "execution_count": 12,
   "metadata": {},
   "outputs": [],
   "source": [
    "from sqlalchemy.orm import sessionmaker"
   ]
  },
  {
   "cell_type": "code",
   "execution_count": 13,
   "metadata": {},
   "outputs": [],
   "source": [
    "Session = sessionmaker(bind=engine)"
   ]
  },
  {
   "cell_type": "code",
   "execution_count": 16,
   "metadata": {},
   "outputs": [],
   "source": [
    "session = Session()"
   ]
  },
  {
   "cell_type": "code",
   "execution_count": 17,
   "metadata": {},
   "outputs": [],
   "source": [
    "ed_user = User(name='ed', fullname='Ed Jones', nickname='edsnickname')"
   ]
  },
  {
   "cell_type": "code",
   "execution_count": 18,
   "metadata": {},
   "outputs": [],
   "source": [
    "session.add(ed_user)"
   ]
  },
  {
   "cell_type": "code",
   "execution_count": 19,
   "metadata": {},
   "outputs": [],
   "source": [
    "our_user = session.query(User).filter_by(name='ed').first() "
   ]
  },
  {
   "cell_type": "code",
   "execution_count": 20,
   "metadata": {},
   "outputs": [
    {
     "data": {
      "text/plain": [
       "<User(name='ed', fullname='Ed Jones', nickname='edsnickname')>"
      ]
     },
     "execution_count": 20,
     "metadata": {},
     "output_type": "execute_result"
    }
   ],
   "source": [
    "our_user"
   ]
  },
  {
   "cell_type": "code",
   "execution_count": 21,
   "metadata": {},
   "outputs": [
    {
     "data": {
      "text/plain": [
       "True"
      ]
     },
     "execution_count": 21,
     "metadata": {},
     "output_type": "execute_result"
    }
   ],
   "source": [
    "ed_user is our_user"
   ]
  },
  {
   "cell_type": "code",
   "execution_count": 22,
   "metadata": {},
   "outputs": [],
   "source": [
    "session.add_all([\n",
    "         User(name='wendy', fullname='Wendy Williams', nickname='windy'),\n",
    "         User(name='mary', fullname='Mary Contrary', nickname='mary'),\n",
    "         User(name='fred', fullname='Fred Flintstone', nickname='freddy')])"
   ]
  },
  {
   "cell_type": "code",
   "execution_count": 23,
   "metadata": {},
   "outputs": [],
   "source": [
    "ed_user.nickname = 'eddie'"
   ]
  },
  {
   "cell_type": "code",
   "execution_count": 24,
   "metadata": {},
   "outputs": [
    {
     "data": {
      "text/plain": [
       "IdentitySet([<User(name='ed', fullname='Ed Jones', nickname='eddie')>])"
      ]
     },
     "execution_count": 24,
     "metadata": {},
     "output_type": "execute_result"
    }
   ],
   "source": [
    "session.dirty"
   ]
  },
  {
   "cell_type": "code",
   "execution_count": 25,
   "metadata": {},
   "outputs": [
    {
     "data": {
      "text/plain": [
       "IdentitySet([<User(name='wendy', fullname='Wendy Williams', nickname='windy')>, <User(name='mary', fullname='Mary Contrary', nickname='mary')>, <User(name='fred', fullname='Fred Flintstone', nickname='freddy')>])"
      ]
     },
     "execution_count": 25,
     "metadata": {},
     "output_type": "execute_result"
    }
   ],
   "source": [
    "session.new  "
   ]
  },
  {
   "cell_type": "code",
   "execution_count": 26,
   "metadata": {},
   "outputs": [],
   "source": [
    "session.commit()"
   ]
  },
  {
   "cell_type": "code",
   "execution_count": 27,
   "metadata": {},
   "outputs": [
    {
     "data": {
      "text/plain": [
       "1"
      ]
     },
     "execution_count": 27,
     "metadata": {},
     "output_type": "execute_result"
    }
   ],
   "source": [
    "ed_user.id "
   ]
  },
  {
   "cell_type": "code",
   "execution_count": 28,
   "metadata": {},
   "outputs": [],
   "source": [
    "ed_user.name = 'Edwardo'"
   ]
  },
  {
   "cell_type": "code",
   "execution_count": 29,
   "metadata": {},
   "outputs": [],
   "source": [
    "fake_user = User(name='fakeuser', fullname='Invalid', nickname='12345')"
   ]
  },
  {
   "cell_type": "code",
   "execution_count": 30,
   "metadata": {},
   "outputs": [],
   "source": [
    "session.add(fake_user)"
   ]
  },
  {
   "cell_type": "code",
   "execution_count": 31,
   "metadata": {},
   "outputs": [
    {
     "data": {
      "text/plain": [
       "[<User(name='Edwardo', fullname='Ed Jones', nickname='eddie')>,\n",
       " <User(name='fakeuser', fullname='Invalid', nickname='12345')>]"
      ]
     },
     "execution_count": 31,
     "metadata": {},
     "output_type": "execute_result"
    }
   ],
   "source": [
    "session.query(User).filter(User.name.in_(['Edwardo', 'fakeuser'])).all()"
   ]
  },
  {
   "cell_type": "code",
   "execution_count": 32,
   "metadata": {},
   "outputs": [],
   "source": [
    "session.rollback() # 가장 최근의 커밋지점으로 롤백된다"
   ]
  },
  {
   "cell_type": "code",
   "execution_count": 33,
   "metadata": {},
   "outputs": [
    {
     "data": {
      "text/plain": [
       "'ed'"
      ]
     },
     "execution_count": 33,
     "metadata": {},
     "output_type": "execute_result"
    }
   ],
   "source": [
    "ed_user.name"
   ]
  },
  {
   "cell_type": "code",
   "execution_count": 34,
   "metadata": {},
   "outputs": [
    {
     "data": {
      "text/plain": [
       "False"
      ]
     },
     "execution_count": 34,
     "metadata": {},
     "output_type": "execute_result"
    }
   ],
   "source": [
    "fake_user in session"
   ]
  },
  {
   "cell_type": "code",
   "execution_count": 35,
   "metadata": {},
   "outputs": [
    {
     "name": "stdout",
     "output_type": "stream",
     "text": [
      "ed Ed Jones\n",
      "wendy Wendy Williams\n",
      "mary Mary Contrary\n",
      "fred Fred Flintstone\n"
     ]
    }
   ],
   "source": [
    "for instance in session.query(User).order_by(User.id):\n",
    "        print(instance.name, instance.fullname)"
   ]
  },
  {
   "cell_type": "code",
   "execution_count": 36,
   "metadata": {},
   "outputs": [
    {
     "name": "stdout",
     "output_type": "stream",
     "text": [
      "ed Ed Jones\n",
      "wendy Wendy Williams\n",
      "mary Mary Contrary\n",
      "fred Fred Flintstone\n"
     ]
    }
   ],
   "source": [
    "for name, fullname in session.query(User.name, User.fullname):\n",
    "         print(name, fullname)"
   ]
  },
  {
   "cell_type": "code",
   "execution_count": 37,
   "metadata": {},
   "outputs": [
    {
     "name": "stdout",
     "output_type": "stream",
     "text": [
      "<User(name='ed', fullname='Ed Jones', nickname='eddie')> ed\n",
      "<User(name='wendy', fullname='Wendy Williams', nickname='windy')> wendy\n",
      "<User(name='mary', fullname='Mary Contrary', nickname='mary')> mary\n",
      "<User(name='fred', fullname='Fred Flintstone', nickname='freddy')> fred\n"
     ]
    }
   ],
   "source": [
    "for row in session.query(User, User.name).all():\n",
    "        print(row.User, row.name)"
   ]
  },
  {
   "cell_type": "code",
   "execution_count": 38,
   "metadata": {},
   "outputs": [
    {
     "name": "stdout",
     "output_type": "stream",
     "text": [
      "ed\n",
      "wendy\n",
      "mary\n",
      "fred\n"
     ]
    }
   ],
   "source": [
    "for row in session.query(User.name.label('name_label')).all():\n",
    "    print(row.name_label)"
   ]
  },
  {
   "cell_type": "code",
   "execution_count": null,
   "metadata": {},
   "outputs": [],
   "source": []
  }
 ],
 "metadata": {
  "kernelspec": {
   "display_name": "Python 3",
   "language": "python",
   "name": "python3"
  },
  "language_info": {
   "codemirror_mode": {
    "name": "ipython",
    "version": 3
   },
   "file_extension": ".py",
   "mimetype": "text/x-python",
   "name": "python",
   "nbconvert_exporter": "python",
   "pygments_lexer": "ipython3",
   "version": "3.8.8"
  }
 },
 "nbformat": 4,
 "nbformat_minor": 4
}
