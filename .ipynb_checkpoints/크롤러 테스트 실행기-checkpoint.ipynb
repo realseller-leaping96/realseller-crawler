{
 "cells": [
  {
   "cell_type": "code",
   "execution_count": 12,
   "metadata": {},
   "outputs": [],
   "source": [
    "import module.chrome_driver_module as chrome_driver_module\n",
    "import module.db_module as db_module\n",
    "import pandas as pd\n",
    "import numpy as np\n",
    "\n",
    "db_class = db_module.Database() #db연결 생성\n",
    "driver = chrome_driver_module.ChromeDriver().driver\n",
    "\n",
    "seller_list = pd.read_excel('셀러리스트.xlsx').fillna(np.NAN)\n",
    "\n",
    "\n",
    "for i in range(len(seller_list)):\n",
    "    if pd.notnull(seller_list.iloc[i]['fsl_rs_naver_nickname']):\n",
    "        naver_nick_list = seller_list.iloc[i]['fsl_rs_naver_nickname'].split(\"|\")\n",
    "        url_naver_1 = \"\"\"\n",
    "        https://m.cafe.naver.com/ArticleSearchList.nhn?search.query=\n",
    "        \"\"\" \n",
    "        url_naver_2= \"\"\"\n",
    "        &search.menuid=0&search.searchBy=3&search.sortBy=date&search.clubid=10050146&search.option=0&search.defaultValue=1 \n",
    "        \"\"\"\n",
    "        for naver_nick in naver_nick_list:\n",
    "            driver.get(url_naver_1+naver_nick+url_naver_2)\n",
    "    \n",
    "    if pd.notnull(seller_list.iloc[i]['fsl_rs_bunjang_mun']):\n",
    "        bunjang_mun_list = str(seller_list.iloc[i]['fsl_rs_bunjang_mun']).split(\"|\")\n",
    "        url_bunjang_1 = \"\"\"https://m.bunjang.co.kr/shop/\"\"\" \n",
    "        url_bunjang_2= \"\"\"/products\"\"\"\n",
    "        for bunjang_mun in bunjang_mun_list:\n",
    "            driver.get(url_bunjang_1+bunjang_mun+url_bunjang_2)\n",
    "    \n",
    "    \n"
   ]
  },
  {
   "cell_type": "code",
   "execution_count": null,
   "metadata": {},
   "outputs": [],
   "source": []
  }
 ],
 "metadata": {
  "kernelspec": {
   "display_name": "Python 3",
   "language": "python",
   "name": "python3"
  },
  "language_info": {
   "codemirror_mode": {
    "name": "ipython",
    "version": 3
   },
   "file_extension": ".py",
   "mimetype": "text/x-python",
   "name": "python",
   "nbconvert_exporter": "python",
   "pygments_lexer": "ipython3",
   "version": "3.8.8"
  }
 },
 "nbformat": 4,
 "nbformat_minor": 4
}
