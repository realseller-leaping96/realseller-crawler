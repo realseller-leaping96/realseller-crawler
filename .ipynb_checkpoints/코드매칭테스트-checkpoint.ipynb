{
 "cells": [
  {
   "cell_type": "code",
   "execution_count": null,
   "id": "78429d92",
   "metadata": {},
   "outputs": [],
   "source": [
    "from module.db.db_model import DbModel\n",
    "from module.code_matching.mintit import match_mintit_index\n",
    "from module.code_matching.joongabi import match_joongabi_index\n",
    "from module.code_matching.bunjang import match_bunjang_index\n",
    "from module.code_matching.price_list import match_price_list\n",
    "from module.code_matching.merge import merge_index\n",
    "\n",
    "from sqlalchemy import Table, Column, Integer, String, Boolean, Date\n",
    "from module.db.db_model import CreateTableIfNotExists\n",
    "\n",
    "db_model = DbModel(\"main\") #code_matching 테이블 없을경우 정의해줌\n",
    "\n",
    "phone_list = db_model.get_table_dataframe(\"g5_phone_list\")\n",
    "\n",
    "mintit_index = match_mintit_index(db_model,phone_list)\n",
    "\n",
    "joongabi_index = match_joongabi_index(db_model,phone_list)\n",
    "\n",
    "bunjang_index = match_bunjang_index(db_model,phone_list)\n",
    "\n",
    "price_list = match_price_list(db_model,phone_list)\n",
    "\n",
    "result= merge_index(bunjang_index,joongabi_index,mintit_index,price_list,phone_list)\n",
    "\n",
    "a = db_model.update_code_matching_orm(result)\n",
    "\n",
    "\n",
    "db_model.end()\n",
    "\n",
    "\n",
    "\n"
   ]
  }
 ],
 "metadata": {
  "kernelspec": {
   "display_name": "Python 3",
   "language": "python",
   "name": "python3"
  },
  "language_info": {
   "codemirror_mode": {
    "name": "ipython",
    "version": 3
   },
   "file_extension": ".py",
   "mimetype": "text/x-python",
   "name": "python",
   "nbconvert_exporter": "python",
   "pygments_lexer": "ipython3",
   "version": "3.8.8"
  }
 },
 "nbformat": 4,
 "nbformat_minor": 5
}
