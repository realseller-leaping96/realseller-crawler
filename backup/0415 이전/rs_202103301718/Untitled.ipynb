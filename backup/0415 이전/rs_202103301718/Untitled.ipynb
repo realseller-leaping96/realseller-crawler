{
 "cells": [
  {
   "cell_type": "code",
   "execution_count": 1,
   "metadata": {},
   "outputs": [],
   "source": [
    "import pandas as pd\n"
   ]
  },
  {
   "cell_type": "code",
   "execution_count": 46,
   "metadata": {},
   "outputs": [],
   "source": [
    "csv_test = pd.read_csv('111.csv',  encoding='cp949')\n"
   ]
  },
  {
   "cell_type": "code",
   "execution_count": 47,
   "metadata": {},
   "outputs": [],
   "source": [
    "for index in range(1,a):\n",
    "    csv_test.iloc[index] = csv_test.iloc[index].replace(\"\\n\", \"\")"
   ]
  },
  {
   "cell_type": "code",
   "execution_count": 48,
   "metadata": {},
   "outputs": [],
   "source": [
    "csv_test.to_csv('file.csv',encoding='utf-8-sig')\n"
   ]
  },
  {
   "cell_type": "code",
   "execution_count": 50,
   "metadata": {},
   "outputs": [
    {
     "name": "stdout",
     "output_type": "stream",
     "text": [
      "   second first  third\n",
      "0       5    ne    213\n",
      "1       6    da    151\n",
      "2       7    ne     16\n",
      "3       8    da    641\n",
      "4       9    da     64\n"
     ]
    },
    {
     "data": {
      "text/plain": [
       "Engine(sqlite:///file.db)"
      ]
     },
     "execution_count": 50,
     "metadata": {},
     "output_type": "execute_result"
    }
   ],
   "source": [
    "import pandas as pd\n",
    "from sqlalchemy import create_engine\n",
    "\n",
    "df = pd.DataFrame({'second':[5,6,7,8,9],\n",
    "                   'first':['ne', 'da', 'ne', 'da', 'da'],\n",
    "                   'third':[213,151,16,641,64]})\n",
    "print(df)\n",
    "db_uri = 'sqlite:///file.db'\n",
    "engine = create_engine(db_uri, echo=False)\n",
    "\n"
   ]
  },
  {
   "cell_type": "code",
   "execution_count": 52,
   "metadata": {},
   "outputs": [],
   "source": [
    "sample_sql_database = df.to_sql('sample_database', con=engine)"
   ]
  },
  {
   "cell_type": "code",
   "execution_count": 54,
   "metadata": {},
   "outputs": [],
   "source": [
    "sample_sql_database"
   ]
  },
  {
   "cell_type": "code",
   "execution_count": 55,
   "metadata": {},
   "outputs": [],
   "source": [
    "sample_sql_database = engine.execute(\"SELECT * FROM sample_database\").fetchall()"
   ]
  },
  {
   "cell_type": "code",
   "execution_count": 56,
   "metadata": {},
   "outputs": [
    {
     "name": "stdout",
     "output_type": "stream",
     "text": [
      "[(0, 5, 'ne', 213), (1, 6, 'da', 151), (2, 7, 'ne', 16), (3, 8, 'da', 641), (4, 9, 'da', 64)]\n"
     ]
    }
   ],
   "source": [
    "print(sample_sql_database)"
   ]
  },
  {
   "cell_type": "code",
   "execution_count": null,
   "metadata": {},
   "outputs": [],
   "source": []
  }
 ],
 "metadata": {
  "kernelspec": {
   "display_name": "Python 3",
   "language": "python",
   "name": "python3"
  },
  "language_info": {
   "codemirror_mode": {
    "name": "ipython",
    "version": 3
   },
   "file_extension": ".py",
   "mimetype": "text/x-python",
   "name": "python",
   "nbconvert_exporter": "python",
   "pygments_lexer": "ipython3",
   "version": "3.6.10"
  }
 },
 "nbformat": 4,
 "nbformat_minor": 4
}
