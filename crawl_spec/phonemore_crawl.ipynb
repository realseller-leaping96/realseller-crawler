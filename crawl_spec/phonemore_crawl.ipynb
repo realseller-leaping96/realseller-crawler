{
 "cells": [
  {
   "cell_type": "code",
   "execution_count": 2,
   "metadata": {},
   "outputs": [
    {
     "data": {
      "text/html": [
       "<div>\n",
       "<style scoped>\n",
       "    .dataframe tbody tr th:only-of-type {\n",
       "        vertical-align: middle;\n",
       "    }\n",
       "\n",
       "    .dataframe tbody tr th {\n",
       "        vertical-align: top;\n",
       "    }\n",
       "\n",
       "    .dataframe thead th {\n",
       "        text-align: right;\n",
       "    }\n",
       "</style>\n",
       "<table border=\"1\" class=\"dataframe\">\n",
       "  <thead>\n",
       "    <tr style=\"text-align: right;\">\n",
       "      <th></th>\n",
       "      <th>제조사</th>\n",
       "      <th>모델명</th>\n",
       "      <th>코드</th>\n",
       "      <th>분류</th>\n",
       "    </tr>\n",
       "  </thead>\n",
       "  <tbody>\n",
       "    <tr>\n",
       "      <th>2151</th>\n",
       "      <td>samsung</td>\n",
       "      <td>IceTouch</td>\n",
       "      <td>YP-GH1</td>\n",
       "      <td>검색안됨</td>\n",
       "    </tr>\n",
       "    <tr>\n",
       "      <th>2152</th>\n",
       "      <td>samsung</td>\n",
       "      <td>Galaxy Player 4.2</td>\n",
       "      <td>YP-GI1</td>\n",
       "      <td>검색안됨</td>\n",
       "    </tr>\n",
       "    <tr>\n",
       "      <th>2153</th>\n",
       "      <td>samsung</td>\n",
       "      <td>Galaxy 070</td>\n",
       "      <td>YP-GI2</td>\n",
       "      <td>검색안됨</td>\n",
       "    </tr>\n",
       "    <tr>\n",
       "      <th>2154</th>\n",
       "      <td>samsung</td>\n",
       "      <td>Galaxy Player 5.8</td>\n",
       "      <td>YP-GP1</td>\n",
       "      <td>검색안됨</td>\n",
       "    </tr>\n",
       "    <tr>\n",
       "      <th>2155</th>\n",
       "      <td>samsung</td>\n",
       "      <td>Galaxy Player 3.6</td>\n",
       "      <td>YP-GS1</td>\n",
       "      <td>검색안됨</td>\n",
       "    </tr>\n",
       "  </tbody>\n",
       "</table>\n",
       "</div>"
      ],
      "text/plain": [
       "          제조사                모델명      코드    분류\n",
       "2151  samsung           IceTouch  YP-GH1  검색안됨\n",
       "2152  samsung  Galaxy Player 4.2  YP-GI1  검색안됨\n",
       "2153  samsung         Galaxy 070  YP-GI2  검색안됨\n",
       "2154  samsung  Galaxy Player 5.8  YP-GP1  검색안됨\n",
       "2155  samsung  Galaxy Player 3.6  YP-GS1  검색안됨"
      ]
     },
     "execution_count": 2,
     "metadata": {},
     "output_type": "execute_result"
    }
   ],
   "source": [
    "import pandas as pd\n",
    "from selenium import webdriver\n",
    "from selenium.webdriver.chrome.options import Options\n",
    "from bs4 import BeautifulSoup\n",
    "import numpy as np\n",
    "import re\n",
    "\n",
    "\n",
    "df_input = pd.read_excel('phone_info.xlsx', '1.전체기총')\n",
    "df_input.iloc[0]\n",
    "\n",
    "is_not_found = df_input['분류'] == '검색안됨'\n",
    "not_found = df_input[is_not_found]\n",
    "not_found.tail(5)"
   ]
  },
  {
   "cell_type": "code",
   "execution_count": 29,
   "metadata": {},
   "outputs": [
    {
     "data": {
      "text/plain": [
       "'10sm3tb'"
      ]
     },
     "execution_count": 29,
     "metadata": {},
     "output_type": "execute_result"
    }
   ],
   "source": [
    "not_found.iloc[0][2]"
   ]
  },
  {
   "cell_type": "code",
   "execution_count": 44,
   "metadata": {},
   "outputs": [],
   "source": [
    "#####################################################################################\n",
    "######################### 크롤링 데이터 초기화 ######################################\n",
    "#####################################################################################\n",
    "my_dict = {\n",
    "    \"code\": \"\",\n",
    "    \"country\": \"\"\n",
    "}\n",
    "crawl_data = pd.DataFrame(my_dict,index=[0])\n",
    "#####################################################################################\n",
    "#####################################################################################\n",
    "#####################################################################################\n",
    "\n",
    "def hasxpath(xpath):\n",
    "    try:\n",
    "        driver.find_element_by_xpath(xpath)\n",
    "        return True\n",
    "    except:\n",
    "        return False\n",
    "\n",
    "def search_by_category(df_input,crawl_data,index,option):\n",
    "    url1 = 'https://www.phonemore.com/specs/?q='\n",
    "    driver.get(url1+df_input.iloc[index][2])\n",
    "    driver.implicitly_wait(3)\n",
    "    \n",
    "    if hasxpath('//*[@id=\"accessibility_content\"]/div[2]/div/div[2]/div[2]/div[1]/div') == True:\n",
    "        driver.implicitly_wait(50)\n",
    "        a = driver.find_element_by_xpath('//*[@id=\"accessibility_content\"]/div[2]/div/div[2]/div[2]/div[1]/div/a')\n",
    "        href = a.get_attribute(\"href\")\n",
    "        driver.get(href)\n",
    "        \n",
    "        req = driver.page_source\n",
    "        soup=BeautifulSoup(req, 'html.parser')\n",
    "        tb_specs = soup.select(\"#tb_specs\")\n",
    "        trows = tb_specs[0].select('tr')\n",
    "        for tr in trows:\n",
    "            tdatas = tr.select('td')\n",
    "            if tdatas[0].text == 'Country or region available':\n",
    "                country = tdatas[1].text\n",
    "        my_dict = {\n",
    "            \"code\": df_input.iloc[index][2],\n",
    "            \"country\": country\n",
    "        }\n",
    "        return pd.DataFrame(my_dict,index=[0])\n",
    "\n",
    "        \n",
    "# 초기화 --------------------------------------------\n",
    "chrome_options = Options()\n",
    "chrome_options.add_argument(\"--headless\")\n",
    "driver  = webdriver.Chrome('../chromedriver')\n",
    "driver.implicitly_wait(3)\n",
    "\n",
    "for i in range(150,151):\n",
    "    crawl_data = crawl_data.append(search_by_category(not_found,crawl_data,i,\"all\"))\n"
   ]
  },
  {
   "cell_type": "code",
   "execution_count": null,
   "metadata": {},
   "outputs": [],
   "source": [
    "crawl_data"
   ]
  }
 ],
 "metadata": {
  "kernelspec": {
   "display_name": "Python 3",
   "language": "python",
   "name": "python3"
  },
  "language_info": {
   "codemirror_mode": {
    "name": "ipython",
    "version": 3
   },
   "file_extension": ".py",
   "mimetype": "text/x-python",
   "name": "python",
   "nbconvert_exporter": "python",
   "pygments_lexer": "ipython3",
   "version": "3.6.10"
  }
 },
 "nbformat": 4,
 "nbformat_minor": 4
}
