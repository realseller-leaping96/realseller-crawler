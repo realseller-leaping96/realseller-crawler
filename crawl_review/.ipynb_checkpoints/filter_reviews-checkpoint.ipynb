{
 "cells": [
  {
   "cell_type": "markdown",
   "metadata": {},
   "source": [
    "# 엑셀에서 pl_id 오름차순, text_len(추가후) 내림차순 정렬하고 난 후 => file.cs"
   ]
  },
  {
   "cell_type": "code",
   "execution_count": 4,
   "metadata": {},
   "outputs": [
    {
     "name": "stderr",
     "output_type": "stream",
     "text": [
      "C:\\Users\\An\\anaconda3\\lib\\site-packages\\pandas\\core\\strings.py:1954: UserWarning: This pattern has match groups. To actually get the groups, use str.extract.\n",
      "  return func(self, *args, **kwargs)\n"
     ]
    }
   ],
   "source": [
    "import pandas as pd\n",
    "\n",
    "#####################################################################################\n",
    "######################### 크롤링 데이터 초기화 ######################################\n",
    "#####################################################################################\n",
    "my_dict = {\n",
    "    \"pl_id\": \"\",                    #모델영문명\n",
    "    \"text1\": \"\",\n",
    "    \"text2\": \"\",\n",
    "    \"text3\": \"\"\n",
    "}\n",
    "\n",
    "filtered_reivew = pd.DataFrame(my_dict,index=[0])\n",
    "filtered_reivew_none = pd.DataFrame(my_dict,index=[0])\n",
    "#######################################################################################\n",
    "#######################################################################################\n",
    "#######################################################################################\n",
    "\n",
    "df_output = pd.read_csv('../org_reviews.csv')\n",
    "pl_ids = df_output['pl_id'].unique()\n",
    "models = []\n",
    "for pl_id in pl_ids:\n",
    "    is_name = df_output['pl_id'] == pl_id\n",
    "    model = df_output[is_name]\n",
    "    model = model[model.text.str.contains(\n",
    "        r'(용량)|(색)|(사이즈)|(인치)|(화면)|(무게)|(센치)|(배터리)|(카메라)|(메모리)|(성능)|(출시)|(속도)'\n",
    "        + r'|([0-9]+기가)|(보급형)|(방수)|(무선충전)|(지문인식)|(스크린)|(디스플레이)|(스펙)|(내장)'\n",
    "        + r'|(외장)|(컬러)|(버튼)|(단자)|(현상)|(듀얼)|(화소)|(내구성)|(발열)|(업데이트)|(C타입)'\n",
    "    )]    \n",
    "    \n",
    "    my_dict = {\n",
    "    \"pl_id\": pl_id,                 \n",
    "    }\n",
    "    \n",
    "    if len(model) > 0:\n",
    "        my_dict[\"text1\"] = model.iloc[0]['text']\n",
    "        \n",
    "    else:\n",
    "        my_dict[\"text2\"] = \"\"\n",
    "        my_dict[\"text2\"] = \"\"\n",
    "        \n",
    "    if len(model) > 1:\n",
    "        my_dict[\"text2\"] = model.iloc[1]['text']\n",
    "    if len(model) > 2:\n",
    "        my_dict[\"text3\"] = model.iloc[2]['text']\n",
    "    \n",
    "    filtered_reivew = filtered_reivew.append(pd.DataFrame(my_dict,index=[0]))"
   ]
  },
  {
   "cell_type": "code",
   "execution_count": 5,
   "metadata": {},
   "outputs": [
    {
     "data": {
      "text/html": [
       "<div>\n",
       "<style scoped>\n",
       "    .dataframe tbody tr th:only-of-type {\n",
       "        vertical-align: middle;\n",
       "    }\n",
       "\n",
       "    .dataframe tbody tr th {\n",
       "        vertical-align: top;\n",
       "    }\n",
       "\n",
       "    .dataframe thead th {\n",
       "        text-align: right;\n",
       "    }\n",
       "</style>\n",
       "<table border=\"1\" class=\"dataframe\">\n",
       "  <thead>\n",
       "    <tr style=\"text-align: right;\">\n",
       "      <th></th>\n",
       "      <th>pl_id</th>\n",
       "      <th>pl_model_code</th>\n",
       "      <th>pl_name</th>\n",
       "      <th>star</th>\n",
       "      <th>market</th>\n",
       "      <th>write_id</th>\n",
       "      <th>upload_day</th>\n",
       "      <th>title</th>\n",
       "      <th>text</th>\n",
       "      <th>URL</th>\n",
       "    </tr>\n",
       "  </thead>\n",
       "  <tbody>\n",
       "  </tbody>\n",
       "</table>\n",
       "</div>"
      ],
      "text/plain": [
       "Empty DataFrame\n",
       "Columns: [pl_id, pl_model_code, pl_name, star, market, write_id, upload_day, title, text, URL]\n",
       "Index: []"
      ]
     },
     "execution_count": 5,
     "metadata": {},
     "output_type": "execute_result"
    }
   ],
   "source": [
    "model"
   ]
  },
  {
   "cell_type": "code",
   "execution_count": 7,
   "metadata": {},
   "outputs": [],
   "source": [
    "filtered_reivew.to_csv('filtered_reivew.csv',encoding='utf-8-sig')"
   ]
  },
  {
   "cell_type": "code",
   "execution_count": null,
   "metadata": {},
   "outputs": [],
   "source": []
  }
 ],
 "metadata": {
  "kernelspec": {
   "display_name": "Python 3",
   "language": "python",
   "name": "python3"
  },
  "language_info": {
   "codemirror_mode": {
    "name": "ipython",
    "version": 3
   },
   "file_extension": ".py",
   "mimetype": "text/x-python",
   "name": "python",
   "nbconvert_exporter": "python",
   "pygments_lexer": "ipython3",
   "version": "3.6.10"
  }
 },
 "nbformat": 4,
 "nbformat_minor": 4
}
